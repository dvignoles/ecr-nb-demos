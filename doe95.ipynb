{
 "cells": [
  {
   "cell_type": "code",
   "execution_count": 1,
   "id": "b0094f93-bb4d-45dc-96d6-1eb0c7e66cb7",
   "metadata": {},
   "outputs": [],
   "source": [
    "from pathlib import Path\n",
    "import subprocess as sp\n",
    "import xarray as xr\n",
    "import numpy as np\n",
    "import multiprocessing as mp\n",
    "\n",
    "import gzip"
   ]
  },
  {
   "cell_type": "code",
   "execution_count": 2,
   "id": "75065ad4-2b85-4e36-b318-769680c6c747",
   "metadata": {},
   "outputs": [],
   "source": [
    "DOE_VARS = ['runoff', 'prcp', 'pres', 'rhum', 'srad', 'tmax', 'tmin', 'wind', 'PRMS_runoff', 'VIC4_runoff']"
   ]
  },
  {
   "cell_type": "code",
   "execution_count": 3,
   "id": "d3ad5e57-d4b1-4385-a853-6ea3814536e0",
   "metadata": {},
   "outputs": [],
   "source": [
    "TC = '/asrc/ecr/balazs/GHAAS2/RGISarchive/Global/{}/TerraClimate/2m30s/Monthly'\n",
    "NCEP = '/asrc/ecr/balazs/GHAAS2/RGISarchive/Global/{}/NCEP/60min/{}'\n",
    "DOE = '/asrc/ecr/fabio/NREL_WaterSecurity/DOE9505/raw'\n",
    "\n",
    "def get_tc(variable, year=None):\n",
    "    vdir = Path(TC.format(variable))\n",
    "    assert vdir.exists(), f\"{variable} not found\"\n",
    "    \n",
    "    if year is None:\n",
    "        return sorted(vdir.glob('*_mTS*.gdbc.gz'))\n",
    "    else:\n",
    "        return sorted(vdir.glob(f'*_mTS{year}.gdbc.gz'))\n",
    "    \n",
    "def get_ncep(variable, time_step = 'daily', year=None):\n",
    "    vdir = Path(NCEP.format(variable, time_step.lower().capitalize()))\n",
    "    assert vdir.exists(), f\"{variable} not found\"\n",
    "    \n",
    "    time_step = time_step.lower()\n",
    "    if time_step == 'daily':\n",
    "        tstr = 'dTS' \n",
    "    elif time_step == 'monthly':\n",
    "        tstr = 'mTS'\n",
    "        \n",
    "    if year is None:\n",
    "        return sorted(vdir.glob(f'*_{tstr}*.gdbc.gz'))\n",
    "    else:\n",
    "        return sorted(vdir.glob(f'*_{tstr}{year}.gdbc.gz'))\n",
    "    \n",
    "def get_doe(variable, year=None):\n",
    "    var_files = sorted(Path(DOE).glob(f'*_{variable}_*.nc'))\n",
    "    \n",
    "    if year is None:\n",
    "        return var_files\n",
    "    else:\n",
    "        return [f for f in var_files if str(year) in f.name]"
   ]
  },
  {
   "cell_type": "code",
   "execution_count": 4,
   "id": "0c008292-0787-4e42-a074-9e83fe5a1fab",
   "metadata": {},
   "outputs": [
    {
     "data": {
      "text/plain": [
       "[PosixPath('/asrc/ecr/fabio/NREL_WaterSecurity/DOE9505/raw/DaymetV4_VIC4_srad_1980.nc'),\n",
       " PosixPath('/asrc/ecr/fabio/NREL_WaterSecurity/DOE9505/raw/DaymetV4_VIC4_srad_1981.nc'),\n",
       " PosixPath('/asrc/ecr/fabio/NREL_WaterSecurity/DOE9505/raw/DaymetV4_VIC4_srad_1982.nc'),\n",
       " PosixPath('/asrc/ecr/fabio/NREL_WaterSecurity/DOE9505/raw/DaymetV4_VIC4_srad_1983.nc'),\n",
       " PosixPath('/asrc/ecr/fabio/NREL_WaterSecurity/DOE9505/raw/DaymetV4_VIC4_srad_1984.nc')]"
      ]
     },
     "execution_count": 4,
     "metadata": {},
     "output_type": "execute_result"
    }
   ],
   "source": [
    "get_doe('srad')[0:5]"
   ]
  },
  {
   "cell_type": "code",
   "execution_count": 5,
   "id": "526aa87b-179d-43db-aecb-28b697879f71",
   "metadata": {},
   "outputs": [
    {
     "data": {
      "text/plain": [
       "[PosixPath('/asrc/ecr/fabio/NREL_WaterSecurity/DOE9505/raw/DaymetV4_VIC4_prcp_2000.nc')]"
      ]
     },
     "execution_count": 5,
     "metadata": {},
     "output_type": "execute_result"
    }
   ],
   "source": [
    "get_doe('prcp', year=2000)"
   ]
  },
  {
   "cell_type": "code",
   "execution_count": 6,
   "id": "22b0491f-2be4-4f4c-92b7-018149987724",
   "metadata": {},
   "outputs": [
    {
     "data": {
      "text/plain": [
       "[PosixPath('/asrc/ecr/balazs/GHAAS2/RGISarchive/Global/Precipitation/NCEP/60min/Daily/Global_Precipitation_NCEP_60min_dTS2000.gdbc.gz')]"
      ]
     },
     "execution_count": 6,
     "metadata": {},
     "output_type": "execute_result"
    }
   ],
   "source": [
    "get_ncep('Precipitation', time_step = 'daily', year=2000)"
   ]
  },
  {
   "cell_type": "code",
   "execution_count": 7,
   "id": "b8dae1ce-ff2d-4a77-9885-bd0cd55f0cbd",
   "metadata": {},
   "outputs": [
    {
     "data": {
      "text/plain": [
       "[PosixPath('/asrc/ecr/balazs/GHAAS2/RGISarchive/Global/Precipitation/NCEP/60min/Monthly/Global_Precipitation_NCEP_60min_mTS2000.gdbc.gz')]"
      ]
     },
     "execution_count": 7,
     "metadata": {},
     "output_type": "execute_result"
    }
   ],
   "source": [
    "get_ncep('Precipitation', time_step='monthly', year=2000)"
   ]
  },
  {
   "cell_type": "markdown",
   "id": "aff181ec-13b7-43b3-8a83-bc42845bfbd2",
   "metadata": {},
   "source": [
    "## Covert DOE netcdf to RGIS gdbc\n",
    "\n",
    "The prcp and temperature variables are missing a day of data on leap years, so we'll need to handle that as part of this process. \n",
    "\n",
    "I am assuming that Feb 29th is left out, rather than December 31st. "
   ]
  },
  {
   "cell_type": "code",
   "execution_count": 8,
   "id": "83ea299c-3e30-443d-8dc2-bd67ec8a1e02",
   "metadata": {},
   "outputs": [],
   "source": [
    "import subprocess as sp\n",
    "from calendar import isleap\n",
    "import tempfile\n",
    "from datetime import date, timedelta"
   ]
  },
  {
   "cell_type": "code",
   "execution_count": 9,
   "id": "22d7fc98-776c-4ede-ab14-5cc6b2876ba1",
   "metadata": {},
   "outputs": [],
   "source": [
    "def insert_feb29(ds, var_name):\n",
    "    \n",
    "    #TODO: Assert unit of date\n",
    "    # time is in \"days since 1980-01-01\"\n",
    "    new_time = ds.time.data\n",
    "    new_time = np.append(new_time, [ds.time.data[-1] + 1,])\n",
    "\n",
    "    # leaves time[-1] with no data, need to shift values forward\n",
    "    reindexed = ds.reindex({'time': new_time}, method=None)\n",
    "\n",
    "    feb28 = reindexed[var_name].isel(time=58)\n",
    "\n",
    "    march1 = reindexed[var_name].isel(time=59)\n",
    "    \n",
    "    # interpolate value\n",
    "    feb29 = (feb28 + march1)/2\n",
    "\n",
    "    for t in new_time[::-1]:\n",
    "        # convert from \"days since 1980\"\n",
    "        dt = date(1980, 1, 1) + timedelta(int(t))\n",
    "        # everything from march 1st on shifted forward one index\n",
    "        if dt >= date(dt.year, 3, 1):\n",
    "            reindexed[var_name].loc[t,:,:] = reindexed[var_name].loc[t-1,:,:]\n",
    "        # feb29 interp value takes place of old march1\n",
    "        if dt == date(dt.year, 2, 29):\n",
    "            reindexed[var_name].loc[t,:,:] = feb29\n",
    "    \n",
    "    return reindexed"
   ]
  },
  {
   "cell_type": "code",
   "execution_count": 22,
   "id": "d10e3e6f-33b8-4603-9460-360178346d5d",
   "metadata": {},
   "outputs": [],
   "source": [
    "def _nc_to_rgis(nc: Path, year: int, output_path: Path):\n",
    "    \"\"\"Wrap terminal command:\n",
    "        netcdf2rgis <netcdf> | grdDateLayers -e day -Y <year> - <output_gdbc>\"\"\"\n",
    "    \n",
    "    netcdf2rgis = f\"netcdf2rgis {nc}\".split()\n",
    "    grdDateLayers = f\"grdDateLayers -e day -Y {year} - {str(output_path)}\".split()\n",
    "    \n",
    "    ps = sp.Popen(netcdf2rgis, stdout=sp.PIPE)\n",
    "    output = sp.check_output(grdDateLayers, stdin=ps.stdout)\n",
    "    ps.wait()\n",
    "    return output_path\n",
    "    \n",
    "def nc_to_rgis(nc: Path, year: int, output_path: Path):\n",
    "    \"\"\"Perform netcdf conversion to gdbc (rgis format). If leap year data is missing Feb 29, fill in\"\"\"\n",
    "    \n",
    "    if isleap(year):\n",
    "        ds = xr.open_dataset(nc)\n",
    "        var_name = list(ds.data_vars.keys())[0]\n",
    "        if len(ds.time) < 366:\n",
    "            ds = insert_feb29(ds, var_name)\n",
    "            \n",
    "            # temporarily store new netcdf with feb29 added\n",
    "            tmp_dir = tempfile.TemporaryDirectory(dir='/tmp', prefix=\"rgispy_\")\n",
    "            nc = Path(tmp_dir.name).joinpath(nc.name)\n",
    "            ds.to_netcdf(nc)\n",
    "           \n",
    "            # convert temp netcdf\n",
    "            rgis = _nc_to_rgis(nc, year, output_path)\n",
    "            \n",
    "            # delete temporary netcdf\n",
    "            tmp_dir.cleanup()\n",
    "            return rgis\n",
    "        else:\n",
    "            return _nc_to_rgis(nc, year, output_path)\n",
    "    else:\n",
    "        return _nc_to_rgis(nc, year, output_path)"
   ]
  },
  {
   "cell_type": "code",
   "execution_count": 24,
   "id": "a470f476-ccfe-4a12-aec1-d092889c1ca7",
   "metadata": {},
   "outputs": [],
   "source": [
    "# DOE files that already are converted to gdbc and have missing leap year data filled in\n",
    "DOE_PREPROCESSED = Path('/home/shared/doe95/raw_gdbc')"
   ]
  },
  {
   "cell_type": "code",
   "execution_count": 25,
   "id": "0bc14358-6614-43b0-bdd8-a1f00ca1e67a",
   "metadata": {},
   "outputs": [],
   "source": [
    "RERUN = False\n",
    "\n",
    "# This takes a while, no need to run it again unless I messed up something\n",
    "if RERUN:\n",
    "    POOL = mp.Pool(processes=4)\n",
    "\n",
    "    for v in DOE_VARS:\n",
    "        for y in range(1980, 2020):\n",
    "            nc = get_doe(v, year=y)[0]\n",
    "\n",
    "            out_name = nc.name.split('.')[0] + '.gdbc.gz'\n",
    "            out_path = DOE_PREPROCESSED.joinpath(out_name)\n",
    "\n",
    "            POOL.apply_async(nc_to_rgis, args=(nc, y, out_path))\n",
    "\n",
    "    POOL.close()\n",
    "    POOL.join()"
   ]
  },
  {
   "cell_type": "code",
   "execution_count": 26,
   "id": "6b603115-62cf-46ed-8c72-f35e04bc0982",
   "metadata": {},
   "outputs": [],
   "source": [
    "def get_doe_preprocessed(variable, year=None):\n",
    "    \"\"\"DOE files that already are converted to gdbc and have missing leap year data filled in\"\"\"\n",
    "    \n",
    "    var_files = sorted(Path(DOE_PREPROCESSED).glob(f'*_{variable}_*.gdbc.gz'))\n",
    "    \n",
    "    if year is None:\n",
    "        return var_files\n",
    "    else:\n",
    "        return [f for f in var_files if str(year) in f.name]"
   ]
  },
  {
   "cell_type": "code",
   "execution_count": 27,
   "id": "00693d3b-ef5f-474c-940e-964919e1d8b6",
   "metadata": {},
   "outputs": [
    {
     "data": {
      "text/plain": [
       "[PosixPath('/home/shared/doe95/raw_gdbc/DaymetV4_VIC4_prcp_2001.gdbc.gz')]"
      ]
     },
     "execution_count": 27,
     "metadata": {},
     "output_type": "execute_result"
    }
   ],
   "source": [
    "get_doe_preprocessed('prcp', year=2001)"
   ]
  },
  {
   "cell_type": "markdown",
   "id": "73ad7ec0-e3b5-4e96-91b1-b9986b158be4",
   "metadata": {},
   "source": [
    "## grdCalculate Final Data\n",
    "\n",
    "Example command line version:\n",
    "```sh\n",
    "network=\"/asrc/ecr/balazs/GHAAS2/RGISarchive/CONUS/Network/HydroSTN30/03min/Static/CONUS_Network_HydroSTN30_03min_Static.gdbn.gz\"\n",
    "nrel=\"/asrc/ecr/danielv/kubestorage/shared-rw/doe95/prcp_2000.gdbc.gz\"\n",
    "terra=\"/asrc/ecr/balazs/GHAAS2/RGISarchive/Global/Precipitation/TerraClimate/2m30s/Monthly/Global_Precipitation_TerraClimate_2m30s_mTS2000.gdbc.gz\"\n",
    "ncep_daily=\"/asrc/ecr/balazs/GHAAS2/RGISarchive/Global/Precipitation/NCEP/60min/Daily/Global_Precipitation_NCEP_60min_dTS2000.gdbc.gz\"\n",
    "ncep_monthly=\"/asrc/ecr/balazs/GHAAS2/RGISarchive/Global/Precipitation/NCEP/60min/Monthly/Global_Precipitation_NCEP_60min_mTS2000.gdbc.gz\"\n",
    "\n",
    "grdCalculate -x $network \\ \n",
    "    -c \"$nrel == nodata ? $ncep_daily * $terra / $ncep_monthly : $nrel\" > nrel_prcp_2000.gdbc.gz\n",
    "```"
   ]
  },
  {
   "cell_type": "code",
   "execution_count": 45,
   "id": "cebd814e-8715-4e1d-9494-637a1ea62178",
   "metadata": {},
   "outputs": [],
   "source": [
    "conus_03min_gdbn = Path('/asrc/ecr/balazs/GHAAS2/RGISarchive/CONUS/Network/HydroSTN30/03min/Static/CONUS_Network_HydroSTN30_03min_Static.gdbn.gz')\n",
    "conus_2m30s_gdbn = Path('/asrc/ecr/balazs/GHAAS2/RGISarchive/CONUS/Network/HydroSTN30/2m30s/Static/CONUS_Network_HydroSTN30_2m30s_Static.gdbn.gz')"
   ]
  },
  {
   "cell_type": "code",
   "execution_count": 29,
   "id": "94f5e5fb-ccf4-443c-ab2c-771237eb822e",
   "metadata": {},
   "outputs": [],
   "source": [
    "def grdCalculate(expression:str, out_buffer, network:Path=conus_03min_gdbn):\n",
    "    cmd = f'grdCalculate -x {str(network)} -c'.split()\n",
    "    cmd.append(expression)\n",
    "    ps = sp.run(cmd, stdout=out_buffer)\n",
    "    return ps\n",
    "\n",
    "def save_grdCalculate(expression:str, output_gz: Path, network:Path=conus_03min_gdbn):\n",
    "    #assert output_gz.is_file(), 'output_gz must be file' \n",
    "    if not output_gz.parent.exists():\n",
    "        ouptut_gz.parent.mkdir(parents=True)\n",
    "    \n",
    "    ps = grdCalculate(expression, sp.PIPE, network=network)\n",
    "    with gzip.open(output_gz, \"wb\") as f:\n",
    "        f.write(ps.stdout)"
   ]
  },
  {
   "cell_type": "code",
   "execution_count": 30,
   "id": "e0109dc5-e9c7-4e1d-b6be-488257a67eb7",
   "metadata": {},
   "outputs": [],
   "source": [
    "nrel_prcp_2000 = get_doe_preprocessed('prcp', year=2000)[0]\n",
    "terra_prcp_monthly_2000 = get_tc('Precipitation', year=2000)[0]\n",
    "ncep_prcp_daily_2000 = get_ncep('Precipitation', time_step='daily', year=2000)[0]\n",
    "ncep_prcp_monthly_2000 = get_ncep('Precipitation', time_step='monthly', year=2000)[0]"
   ]
  },
  {
   "cell_type": "code",
   "execution_count": 31,
   "id": "7d0b805b-0e64-46c2-8777-552c905c92c1",
   "metadata": {},
   "outputs": [],
   "source": [
    "expression = f\"{nrel_prcp_2000} == nodata ? {ncep_prcp_daily_2000} * {terra_prcp_monthly_2000} / {ncep_prcp_monthly_2000} : {nrel_prcp_2000}\"\n",
    "\n",
    "PRECIP_OUT = Path('/home/shared/doe95/CONUS/Precipitation/NRELDOE9505/03min/Daily')\n",
    "precip_2000 = PRECIP_OUT.joinpath('CONUS_Precipitation_NRELDOE9505_03min_dTS2000.gdbc.gz')"
   ]
  },
  {
   "cell_type": "code",
   "execution_count": 28,
   "id": "9998e45a-3c95-4758-b838-1a3c76be5069",
   "metadata": {},
   "outputs": [],
   "source": [
    "# This takes a while\n",
    "save_grdCalculate(expression, precip_2000, network=conus_03min_gdbn)"
   ]
  },
  {
   "cell_type": "markdown",
   "id": "9e658a83-635c-41a7-a56e-6d9599c61ad7",
   "metadata": {},
   "source": [
    "### TODO 1\n",
    "\n",
    "Modify the grdCalculate & save_grdCalculate functions to accept values for the --domain, --subject, --title, and --shadeset flags. Choose some sensible defaults when generating the final data. "
   ]
  },
  {
   "cell_type": "code",
   "execution_count": 30,
   "id": "fa69e22c-3115-47e4-bdb7-d9bb098ea472",
   "metadata": {},
   "outputs": [
    {
     "name": "stdout",
     "output_type": "stream",
     "text": [
      "grdCalculate [options] <output file>\n",
      "     -c,--calculate   [expression]\n",
      "     -r,--variable    [variable expression]\n",
      "     -n,--interpolate [surface|flat]\n",
      "     -x,--extent      [maximum|minimum|<coverage>]\n",
      "     -t,--title       [dataset title]\n",
      "     -u,--subject     [subject]\n",
      "     -d,--domain      [domain]\n",
      "     -v,--version     [version]\n",
      "     -s,--shadeset    [standard|grey|blue|blue-to-red|elevation]\n",
      "     -V,--verbose\n",
      "     -h,--help\n"
     ]
    }
   ],
   "source": [
    "!grdCalculate --help"
   ]
  },
  {
   "cell_type": "markdown",
   "id": "09d85774-d302-409e-915e-1bb0e0083cb3",
   "metadata": {},
   "source": [
    "### TODO 2: Final Functions\n",
    "\n",
    "Create a function for each of the NREL variables. You'll need to find the corresponding WBM datasets from /asrc/ecr/balazs/GHAAS2/RGISarchive/Global. \n",
    "\n",
    "The grdCalculate logic may also differ depending on the data. For example, the DOE95 tmin and tmax will need to be summed and divided (tmin + tmax)/2 to create mean airtermperature. \n",
    "\n",
    "It would also be prudent to consider which interpolation option is used. \n",
    "\n",
    "Note, there is no need to convert all the data. I just need a vetted function for each variable which can create one year of data. "
   ]
  },
  {
   "cell_type": "code",
   "execution_count": 47,
   "id": "e136759c-e875-4674-936a-fd06dff889ad",
   "metadata": {},
   "outputs": [],
   "source": [
    "# data goes here\n",
    "OUTPUT_ROOT = Path('/home/shared/doe95/')"
   ]
  },
  {
   "cell_type": "code",
   "execution_count": 48,
   "id": "4f53d00e-1c5b-4538-9dcd-8d82069ec561",
   "metadata": {},
   "outputs": [],
   "source": [
    "def get_network(res):\n",
    "    cand = Path(f'/asrc/ecr/balazs/GHAAS2/RGISarchive/CONUS/Network/HydroSTN30/{res}/Static/CONUS_Network_HydroSTN30_{res}_Static.gdbn.gz')\n",
    "    assert cand.exists()\n",
    "    return cand"
   ]
  },
  {
   "cell_type": "code",
   "execution_count": 49,
   "id": "ee6e272b-4a03-44aa-acb5-c3a4545efef3",
   "metadata": {},
   "outputs": [],
   "source": [
    "def nrel_precip(year, res, output_dir=Path('/home/shared/doe95')):\n",
    "    \"\"\"Given a year of nrel prcp data in gdbc\n",
    "    \n",
    "    1. Get paths of needed ncep and terraclimate data\n",
    "    2. Create output directory location if needed (see above example, or RGISARCHIVE2)\n",
    "    3. Generate name for output data (like CONUS_Precipitation_NRELDOE9505_03min_dTS2000.gdbc.gz)\n",
    "    4. Create a grdCalculate expression string with correct data and logic\n",
    "    5. Call grdCalculate and save gdbc.gz to /../output_dir/output_name\n",
    "    \"\"\"\n",
    "    network_gdbn = get_network(res)\n",
    "    \n",
    "    nrel = get_doe_preprocessed('prcp', year=year)[0]\n",
    "    terra_monthly = get_tc('Precipitation', year=year)[0]\n",
    "    ncep_daily = get_ncep('Precipitation', time_step='daily', year=year)[0]\n",
    "    ncep_monthly = get_ncep('Precipitation', time_step='monthly', year=year)[0]\n",
    "    \n",
    "    outdir = output_dir.joinpath(f'CONUS/Precipitation/NRELDOE9505/{res}/Daily')\n",
    "    if not outdir.exists():\n",
    "        outdir.mkdir(parents=True)\n",
    "    \n",
    "    outname = f\"CONUS_Precipitation_NRELDOE9505_{res}_dTS{year}.gdbc.gz\"\n",
    "    expression = f\"{nrel} == nodata ? ({ncep_monthly} > 0 ? {ncep_daily} * {terra_monthly} / {ncep_monthly} : 0.0) : {nrel}\"\n",
    "    outpath = outdir.joinpath(outname)\n",
    "    \n",
    "    \n",
    "    save_grdCalculate(expression, outpath, network=network_gdbn)"
   ]
  },
  {
   "cell_type": "code",
   "execution_count": null,
   "id": "3e6145a3-4969-4ea6-b47c-828159118ed8",
   "metadata": {},
   "outputs": [],
   "source": [
    "f\"{network} == nodata ? nodata : ({nrel} == nodata ? ({ncep_monthly} > 0 ? {ncep_daily} * {terra_monthly} / {ncep_monthly} : 0.0) : {nrel})\""
   ]
  },
  {
   "cell_type": "code",
   "execution_count": null,
   "id": "1a6b1642-108b-4fba-8e6f-d4e491d5dc11",
   "metadata": {},
   "outputs": [],
   "source": [
    "nrel_precip(2000, '2m30s')\n",
    "#nrel_precip(2001)"
   ]
  },
  {
   "cell_type": "code",
   "execution_count": 51,
   "id": "1cd4c579-69fe-4346-b89a-7c07e74c1b70",
   "metadata": {},
   "outputs": [],
   "source": [
    "def nrel_temp(year, res, output_dir=Path('/home/shared/doe95')):\n",
    "    \"\"\"Given a year of nrel prcp data in gdbc\n",
    "    \n",
    "    1. Get paths of needed ncep and terraclimate data\n",
    "    2. Create output directory location if needed (see above example, or RGISARCHIVE2)\n",
    "    3. Generate name for output data (like CONUS_Precipitation_NRELDOE9505_03min_dTS2000.gdbc.gz)\n",
    "    4. Create a grdCalculate expression string with correct data and logic\n",
    "    5. Call grdCalculate and save gdbc.gz to /../output_dir/output_name\n",
    "    \"\"\"\n",
    "    \n",
    "    network_gdbn = get_network(res)\n",
    "    nrel_tmin = get_doe_preprocessed('tmin', year=year)[0]\n",
    "    nrel_tmax = get_doe_preprocessed('tmax', year=year)[0]\n",
    "    \n",
    "    terra_monthly = get_tc('AirTemperature', year=year)[0]\n",
    "    ncep_daily = get_ncep('AirTemperature', time_step='daily', year=year)[0]\n",
    "    ncep_monthly = get_ncep('AirTemperature', time_step='monthly', year=year)[0]\n",
    "    \n",
    "    outdir = output_dir.joinpath(f'CONUS/AirTemperature/NRELDOE9505/{res}/Daily')\n",
    "    if not outdir.exists():\n",
    "        outdir.mkdir(parents=True)\n",
    "    \n",
    "    outname = f\"CONUS_AirTemperature_NRELDOE9505_{res}_dTS{year}.gdbc.gz\"\n",
    "    expression = f\"{nrel_tmin} == nodata ? {ncep_daily} * {terra_monthly} / {ncep_monthly} : ( {nrel_tmin} + {nrel_tmax} ) / 2\"\n",
    "    outpath = outdir.joinpath(outname)\n",
    "    \n",
    "    save_grdCalculate(expression, outpath, network=network_gdbn)"
   ]
  },
  {
   "cell_type": "code",
   "execution_count": 52,
   "id": "101d0bf6-30d1-449b-8b07-31c2804268d0",
   "metadata": {},
   "outputs": [],
   "source": [
    "nrel_temp(2000, '2m30s')\n",
    "#nrel_temp(2001)"
   ]
  },
  {
   "cell_type": "code",
   "execution_count": null,
   "id": "125c5084-75a9-45b4-a4e2-63278c091112",
   "metadata": {},
   "outputs": [],
   "source": [
    "def nrel_runoff(runoff_version, res, year, output_dir=Path('/home/shared/doe95')):\n",
    "    assert runoff_version in ['PRMS', 'VIC4']        \n",
    "    network_gdbn = get_network(res)    \n",
    "\n",
    "    nrel = get_doe_preprocessed(f'{runoff_version}_runoff', year=year)[0]\n",
    "    terra_monthly = get_tc('Runoff', year=year)[0]\n",
    "    \n",
    "    # There is no NCEP Runoff <:l\n",
    "    ncep_daily = get_ncep('Runoff', time_step='daily', year=year)[0]\n",
    "    ncep_monthly = get_ncep('Runoff', time_step='monthly', year=year)[0]\n",
    "    \n",
    "    outdir = output_dir.joinpath(f'CONUS/Runoff_{runoff_version}/NRELDOE9505/{res}/Daily')\n",
    "    if not outdir.exists():\n",
    "        outdir.mkdir(parents=True)\n",
    "    \n",
    "    outname = f\"CONUS_Runoff_NRELDOE9505_{res}_dTS{year}.gdbc.gz\"\n",
    "    \n",
    "    expression = f\"{nrel} == nodata ? {ncep_daily} * {terra_monthly} / {ncep_monthly} : {nrel}\"\n",
    "    outpath = outdir.joinpath(outname)\n",
    "\n",
    "    save_grdCalculate(expression, outpath, network=network_gdbn)"
   ]
  },
  {
   "cell_type": "code",
   "execution_count": null,
   "id": "b604f7e4-dc38-4c09-8034-1f59cef033ae",
   "metadata": {},
   "outputs": [],
   "source": [
    "nrel_runoff('PRMS', 2000)"
   ]
  },
  {
   "cell_type": "markdown",
   "id": "c722a631-bfa9-4efb-a393-afdb693d3f1b",
   "metadata": {},
   "source": [
    "Vapor Pressure -> Relative Humidity\n",
    "\n",
    "https://www.engineeringtoolbox.com/relative-humidity-air-d_687.html\n",
    "\n",
    "https://www.engineeringtoolbox.com/water-vapor-saturation-pressure-air-d_689.html"
   ]
  },
  {
   "cell_type": "markdown",
   "id": "d176fc6b-1799-487e-ad87-3a74d60dfcee",
   "metadata": {},
   "source": [
    "pres < - > AirPressure\n",
    "\n",
    "srad < - > Radiation_Shortwave_Downwelling\n",
    "\n",
    "wind < - > WindSpeed"
   ]
  },
  {
   "cell_type": "code",
   "execution_count": null,
   "id": "3188c8ab-f4ae-464c-af9e-9acdd5ffc520",
   "metadata": {},
   "outputs": [],
   "source": []
  }
 ],
 "metadata": {
  "kernelspec": {
   "display_name": "Python 3 (ipykernel)",
   "language": "python",
   "name": "python3"
  },
  "language_info": {
   "codemirror_mode": {
    "name": "ipython",
    "version": 3
   },
   "file_extension": ".py",
   "mimetype": "text/x-python",
   "name": "python",
   "nbconvert_exporter": "python",
   "pygments_lexer": "ipython3",
   "version": "3.9.7"
  }
 },
 "nbformat": 4,
 "nbformat_minor": 5
}
