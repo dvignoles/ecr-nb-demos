{
 "cells": [
  {
   "cell_type": "markdown",
   "id": "02e1074c-8bc0-4c06-a950-1990d872182e",
   "metadata": {},
   "source": [
    "# ASRC ECR JupyterHub\n",
    "\n",
    "Daniel Vignoles\n",
    "dvignoles@gc.cuny.edu\n",
    "\n",
    "JupyerHub provides a jupyter lab & notebook deployment to a group of users. \n",
    "\n",
    "This environment is a containerized jupyter environment running on our server cluster. When you login and start your server, your user-specific jupyter environment is deployed somewhere on our cluster. \n",
    "\n",
    "To stop your server go to `File > Hub Control Panel` in the menu bar. Your server will also automatically shut down if it is idle for some time. "
   ]
  },
  {
   "cell_type": "markdown",
   "id": "dc8606b9-31ba-4a3d-b1c8-f455bd38d0f5",
   "metadata": {},
   "source": [
    "## Demos\n",
    "\n",
    "This directory (`~/ecr-nb-demos`) contains demonstration notebooks which you can build off of. If making your own modifications, I suggest making a copy of the notebook in your home directory. "
   ]
  },
  {
   "cell_type": "markdown",
   "id": "fa3d28e8-d990-4c46-bcb8-f6b83091b3e5",
   "metadata": {},
   "source": [
    "## Server Resources\n",
    "\n",
    "This jupyter instance is running in a clustered environment on our servers. \n",
    "\n",
    "#### Directories\n",
    "`/home/jovyan` is your home directory (`~`) and will persist between logins and server restarts.\n",
    "\n",
    "`/asrc/ecr` from the servers is mounted to `/asrc/ecr` in this containerized environment as a *read-only* filesystem. You can read in data from our servers this way. \n",
    "\n",
    "To share data between other jupyterhub users, and pass through to the underlying servers you can write to `/home/shared` on jupyterhub. All users have write access to this folder, so be intentional about this space. If you have direct access to our servers, you can access the contents of the shared folder in `/asrc/ecr/danielv/kubestorage/shared-rw`\n",
    "\n",
    "#### Computational Resources\n",
    "\n",
    "Your home directory (`/home/jovyan`) is allocated up to 10GB of space. I suggest writing out any significant amount of data to `/home/shared`. \n",
    "\n",
    "As of the time of writing, all users are allocated a maximum of 16GB of RAM and up to 8 cores of a CPU.\n",
    "\n",
    "#### RGIS\n",
    "\n",
    "RGIS is installed directly into the container. All RGIS commands should be available in your `$PATH` (rgis2table, netcdf2rgis, ....)"
   ]
  },
  {
   "cell_type": "markdown",
   "id": "248bf89f-5b37-4e69-b90f-360416c31c85",
   "metadata": {},
   "source": [
    "#### Environment Variables\n",
    "There are number of environement variables you can make use of in python or the terminal"
   ]
  },
  {
   "cell_type": "code",
   "execution_count": 1,
   "id": "763ac232-8f7b-4a18-a8f6-a3548e20525f",
   "metadata": {},
   "outputs": [
    {
     "name": "stdout",
     "output_type": "stream",
     "text": [
      "/asrc/ecr/balazs/GHAAS2\n",
      "/asrc/ecr/balazs/GHAAS3\n",
      "/asrc/ecr/balazs/GHAAS2/RGISarchive\n",
      "/asrc/ecr/balazs/GHAAS3/RGISarchive\n",
      "/asrc/ecr/balazs/WBMdsFiles\n",
      "/home/shared\n",
      "/asrc/ecr/balazs\n",
      "/asrc/ecr/danielv\n",
      "/asrc/ecr/fabio\n"
     ]
    }
   ],
   "source": [
    "import os\n",
    "print(os.environ['GHAAS2'])\n",
    "print(os.environ['GHAAS3'])\n",
    "print(os.environ['RGISARCHIVE2'])\n",
    "print(os.environ['RGISARCHIVE3'])\n",
    "print(os.environ['WBMDSFILES'])\n",
    "print(os.environ['SHARED'])\n",
    "print(os.environ['BALAZS'])\n",
    "print(os.environ['DANIEL'])\n",
    "print(os.environ['FABIO'])"
   ]
  },
  {
   "cell_type": "markdown",
   "id": "1b76fb35-b776-43e3-8aef-530ce00514c8",
   "metadata": {},
   "source": [
    "## Evironments\n",
    "The base kernel has a number of geo-sci packages installed by default including pandas/geopandas, rasterio, xarray...\n",
    "\n",
    "There is also the [rgispy](https://github.com/dvignoles/rgispy) package installed which may see used in some of the demos in this directory. \n",
    "\n",
    "For a full list, run the below command to output a text file in your home directory. "
   ]
  },
  {
   "cell_type": "code",
   "execution_count": 5,
   "id": "dbf73af2-34bf-4a47-ae54-53ed6c7b126c",
   "metadata": {},
   "outputs": [],
   "source": [
    "!conda list -n base > ~/conda-base-packages.txt"
   ]
  },
  {
   "cell_type": "markdown",
   "id": "367299bb-507f-4c69-a1f0-65b8a5488b7a",
   "metadata": {},
   "source": [
    "### Creating your own environments\n",
    "If needed you can also create your own conda evironments. Any environments with the `ipykernel` package installed should appear as kernel options in jupyterhub.\n",
    "\n",
    "```\n",
    "# environments will live in ~/my-conda-envs\n",
    "mamba create -n mycustomenv python=3.9 ipykernel \n",
    "\n",
    "mamba install -n mycustomenv <some-package>\n",
    "```\n",
    "\n",
    "If you're not familiar with mamba, it is pretty much interchangeable with conda. It's a community project re-implementing conda "
   ]
  },
  {
   "cell_type": "markdown",
   "id": "d401b1df-095c-4d69-a8a9-72fab22c29a3",
   "metadata": {},
   "source": []
  }
 ],
 "metadata": {
  "kernelspec": {
   "display_name": "Python 3 (ipykernel)",
   "language": "python",
   "name": "python3"
  },
  "language_info": {
   "codemirror_mode": {
    "name": "ipython",
    "version": 3
   },
   "file_extension": ".py",
   "mimetype": "text/x-python",
   "name": "python",
   "nbconvert_exporter": "python",
   "pygments_lexer": "ipython3",
   "version": "3.9.7"
  }
 },
 "nbformat": 4,
 "nbformat_minor": 5
}
